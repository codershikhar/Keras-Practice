{
 "cells": [
  {
   "cell_type": "code",
   "execution_count": 1,
   "metadata": {},
   "outputs": [],
   "source": [
    "import numpy as np\n",
    "import matplotlib.pyplot as plt"
   ]
  },
  {
   "cell_type": "code",
   "execution_count": 2,
   "metadata": {},
   "outputs": [
    {
     "name": "stderr",
     "output_type": "stream",
     "text": [
      "Using TensorFlow backend.\n"
     ]
    }
   ],
   "source": [
    "import keras\n",
    "from keras.models import Sequential\n",
    "from keras.layers import Dense"
   ]
  },
  {
   "cell_type": "code",
   "execution_count": 3,
   "metadata": {},
   "outputs": [],
   "source": [
    "train_data_X = np.linspace(-1, 1, 101)"
   ]
  },
  {
   "cell_type": "code",
   "execution_count": 4,
   "metadata": {},
   "outputs": [],
   "source": [
    "train_data_y = 4 * train_data_X + np.random.randn(101) * 0.44"
   ]
  },
  {
   "cell_type": "code",
   "execution_count": 5,
   "metadata": {},
   "outputs": [
    {
     "data": {
      "text/plain": [
       "array([-1.  , -0.98, -0.96, -0.94, -0.92, -0.9 , -0.88, -0.86, -0.84,\n",
       "       -0.82, -0.8 , -0.78, -0.76, -0.74, -0.72, -0.7 , -0.68, -0.66,\n",
       "       -0.64, -0.62, -0.6 , -0.58, -0.56, -0.54, -0.52, -0.5 , -0.48,\n",
       "       -0.46, -0.44, -0.42, -0.4 , -0.38, -0.36, -0.34, -0.32, -0.3 ,\n",
       "       -0.28, -0.26, -0.24, -0.22, -0.2 , -0.18, -0.16, -0.14, -0.12,\n",
       "       -0.1 , -0.08, -0.06, -0.04, -0.02,  0.  ,  0.02,  0.04,  0.06,\n",
       "        0.08,  0.1 ,  0.12,  0.14,  0.16,  0.18,  0.2 ,  0.22,  0.24,\n",
       "        0.26,  0.28,  0.3 ,  0.32,  0.34,  0.36,  0.38,  0.4 ,  0.42,\n",
       "        0.44,  0.46,  0.48,  0.5 ,  0.52,  0.54,  0.56,  0.58,  0.6 ,\n",
       "        0.62,  0.64,  0.66,  0.68,  0.7 ,  0.72,  0.74,  0.76,  0.78,\n",
       "        0.8 ,  0.82,  0.84,  0.86,  0.88,  0.9 ,  0.92,  0.94,  0.96,\n",
       "        0.98,  1.  ])"
      ]
     },
     "execution_count": 5,
     "metadata": {},
     "output_type": "execute_result"
    }
   ],
   "source": [
    "train_data_X"
   ]
  },
  {
   "cell_type": "code",
   "execution_count": 6,
   "metadata": {},
   "outputs": [
    {
     "data": {
      "text/plain": [
       "array([-4.53156747, -3.76272381, -4.02238518, -3.72996144, -4.10653687,\n",
       "       -3.72222359, -3.36478726, -3.74171987, -3.36532503, -3.50266516,\n",
       "       -3.28723915, -2.17254616, -3.16516908, -3.72796212, -2.76731322,\n",
       "       -2.48889256, -2.08273018, -2.39189983, -2.65511142, -2.28711924,\n",
       "       -2.4623371 , -2.22371808, -2.54352957, -2.8010276 , -2.11808578,\n",
       "       -2.38735292, -2.11254577, -2.00643462, -2.38284156, -1.82428619,\n",
       "       -1.26956437, -1.55544845, -1.45444646, -1.35281002, -1.62377905,\n",
       "       -1.12287721, -0.88232167, -1.14372688, -1.69118721, -0.88534644,\n",
       "       -0.84038696, -0.57990179, -0.58917312, -0.71766449, -1.13098788,\n",
       "       -1.13349134, -0.39842802,  0.23883971, -0.31110245, -0.09791392,\n",
       "       -0.33125745,  0.67136733, -0.00605507,  0.50821752,  0.3047715 ,\n",
       "       -0.42310068,  0.49561101,  0.94387543,  0.76938305,  0.45095857,\n",
       "        0.33254008,  0.68974736,  1.37812748,  0.79802243,  1.00150306,\n",
       "        1.69295784,  1.51720495,  1.06803314,  1.08882035,  1.13503645,\n",
       "        1.56810452,  1.34316849,  1.92141238,  2.55635862,  1.56033423,\n",
       "        2.09472536,  1.94346863,  2.86708052,  2.37940114,  3.16651917,\n",
       "        1.82088519,  2.49364841,  1.8262655 ,  2.73599213,  2.82820215,\n",
       "        3.59226674,  2.76803876,  2.05442435,  2.71399007,  3.10993363,\n",
       "        3.41799606,  3.28461335,  3.30261142,  3.67388496,  3.17406857,\n",
       "        4.13383315,  4.19499868,  3.86215658,  3.44232113,  4.36971451,\n",
       "        4.20590291])"
      ]
     },
     "execution_count": 6,
     "metadata": {},
     "output_type": "execute_result"
    }
   ],
   "source": [
    "train_data_y"
   ]
  },
  {
   "cell_type": "code",
   "execution_count": 7,
   "metadata": {},
   "outputs": [
    {
     "data": {
      "image/png": "[encoded data removed]",
      "text/plain": [
       "<Figure size 432x288 with 1 Axes>"
      ]
     },
     "metadata": {
      "needs_background": "light"
     },
     "output_type": "display_data"
    }
   ],
   "source": [
    "plt.scatter(x=train_data_X, y=train_data_y, label='data');"
   ]
  },
  {
   "cell_type": "code",
   "execution_count": 8,
   "metadata": {},
   "outputs": [],
   "source": [
    "model = Sequential()"
   ]
  },
  {
   "cell_type": "code",
   "execution_count": 9,
   "metadata": {},
   "outputs": [
    {
     "name": "stdout",
     "output_type": "stream",
     "text": [
      "WARNING:tensorflow:From C:\\ProgramData\\Anaconda3\\lib\\site-packages\\tensorflow\\python\\framework\\op_def_library.py:263: colocate_with (from tensorflow.python.framework.ops) is deprecated and will be removed in a future version.\n",
      "Instructions for updating:\n",
      "Colocations handled automatically by placer.\n"
     ]
    },
    {
     "name": "stderr",
     "output_type": "stream",
     "text": [
      "C:\\ProgramData\\Anaconda3\\lib\\site-packages\\ipykernel_launcher.py:2: UserWarning: Update your `Dense` call to the Keras 2 API: `Dense(input_dim=1, activation=\"linear\", name=\"layer_1\", units=1, kernel_initializer=\"uniform\")`\n",
      "  \n"
     ]
    }
   ],
   "source": [
    "### new model.add(Dense(input_dim=1, units=1, kernel_initializer='uniform', activation='linear', name='layer_1'))\n",
    "model.add(Dense(input_dim=1, output_dim=1, init='uniform', activation='linear', name='layer_1'))"
   ]
  },
  {
   "cell_type": "code",
   "execution_count": 10,
   "metadata": {},
   "outputs": [
    {
     "name": "stdout",
     "output_type": "stream",
     "text": [
      "_________________________________________________________________\n",
      "Layer (type)                 Output Shape              Param #   \n",
      "=================================================================\n",
      "layer_1 (Dense)              (None, 1)                 2         \n",
      "=================================================================\n",
      "Total params: 2\n",
      "Trainable params: 2\n",
      "Non-trainable params: 0\n",
      "_________________________________________________________________\n"
     ]
    }
   ],
   "source": [
    "model.summary()"
   ]
  },
  {
   "cell_type": "code",
   "execution_count": 11,
   "metadata": {},
   "outputs": [
    {
     "data": {
      "text/plain": [
       "1"
      ]
     },
     "execution_count": 11,
     "metadata": {},
     "output_type": "execute_result"
    }
   ],
   "source": [
    "len(model.layers)"
   ]
  },
  {
   "cell_type": "code",
   "execution_count": 12,
   "metadata": {},
   "outputs": [],
   "source": [
    "weights = model.layers[0].get_weights()"
   ]
  },
  {
   "cell_type": "code",
   "execution_count": 13,
   "metadata": {},
   "outputs": [
    {
     "data": {
      "text/plain": [
       "2"
      ]
     },
     "execution_count": 13,
     "metadata": {},
     "output_type": "execute_result"
    }
   ],
   "source": [
    "len(weights)"
   ]
  },
  {
   "cell_type": "code",
   "execution_count": 14,
   "metadata": {},
   "outputs": [
    {
     "data": {
      "text/plain": [
       "[array([[0.00376655]], dtype=float32), array([0.], dtype=float32)]"
      ]
     },
     "execution_count": 14,
     "metadata": {},
     "output_type": "execute_result"
    }
   ],
   "source": [
    "weights"
   ]
  },
  {
   "cell_type": "code",
   "execution_count": 15,
   "metadata": {},
   "outputs": [],
   "source": [
    "weight_initial = weights[0]\n",
    "bias_initial = weights[1]"
   ]
  },
  {
   "cell_type": "code",
   "execution_count": 16,
   "metadata": {},
   "outputs": [
    {
     "name": "stdout",
     "output_type": "stream",
     "text": [
      "linear regression model is initialized with weights w: 0.00, b: 0.00\n"
     ]
    }
   ],
   "source": [
    "print('linear regression model is initialized with weights w: %.2f, b: %.2f' % (weight_initial, bias_initial))"
   ]
  },
  {
   "cell_type": "code",
   "execution_count": 17,
   "metadata": {},
   "outputs": [],
   "source": [
    "model.compile(optimizer='sgd', loss='mse')"
   ]
  },
  {
   "cell_type": "code",
   "execution_count": 18,
   "metadata": {
    "scrolled": true
   },
   "outputs": [
    {
     "name": "stdout",
     "output_type": "stream",
     "text": [
      "WARNING:tensorflow:From C:\\ProgramData\\Anaconda3\\lib\\site-packages\\tensorflow\\python\\ops\\math_ops.py:3066: to_int32 (from tensorflow.python.ops.math_ops) is deprecated and will be removed in a future version.\n",
      "Instructions for updating:\n",
      "Use tf.cast instead.\n",
      "Epoch 1/200\n",
      "101/101 [==============================] - 0s 753us/step - loss: 5.7066\n",
      "Epoch 2/200\n",
      "101/101 [==============================] - 0s 40us/step - loss: 5.4116\n",
      "Epoch 3/200\n",
      "101/101 [==============================] - 0s 40us/step - loss: 5.1022\n",
      "Epoch 4/200\n",
      "101/101 [==============================] - 0s 50us/step - loss: 4.8175\n",
      "Epoch 5/200\n",
      "101/101 [==============================] - 0s 50us/step - loss: 4.5777\n",
      "Epoch 6/200\n",
      "101/101 [==============================] - 0s 79us/step - loss: 4.3029\n",
      "Epoch 7/200\n",
      "101/101 [==============================] - 0s 50us/step - loss: 4.0795\n",
      "Epoch 8/200\n",
      "101/101 [==============================] - 0s 50us/step - loss: 3.8716\n",
      "Epoch 9/200\n",
      "101/101 [==============================] - 0s 59us/step - loss: 3.6983\n",
      "Epoch 10/200\n",
      "101/101 [==============================] - 0s 50us/step - loss: 3.5094\n",
      "Epoch 11/200\n",
      "101/101 [==============================] - 0s 40us/step - loss: 3.3370\n",
      "Epoch 12/200\n",
      "101/101 [==============================] - 0s 79us/step - loss: 3.1954\n",
      "Epoch 13/200\n",
      "101/101 [==============================] - 0s 40us/step - loss: 3.0389\n",
      "Epoch 14/200\n",
      "101/101 [==============================] - 0s 40us/step - loss: 2.8974\n",
      "Epoch 15/200\n",
      "101/101 [==============================] - 0s 40us/step - loss: 2.7407\n",
      "Epoch 16/200\n",
      "101/101 [==============================] - 0s 50us/step - loss: 2.5873\n",
      "Epoch 17/200\n",
      "101/101 [==============================] - 0s 69us/step - loss: 2.4620\n",
      "Epoch 18/200\n",
      "101/101 [==============================] - 0s 59us/step - loss: 2.3406\n",
      "Epoch 19/200\n",
      "101/101 [==============================] - 0s 40us/step - loss: 2.2174\n",
      "Epoch 20/200\n",
      "101/101 [==============================] - 0s 40us/step - loss: 2.1080\n",
      "Epoch 21/200\n",
      "101/101 [==============================] - 0s 50us/step - loss: 1.9999\n",
      "Epoch 22/200\n",
      "101/101 [==============================] - 0s 59us/step - loss: 1.8983\n",
      "Epoch 23/200\n",
      "101/101 [==============================] - 0s 50us/step - loss: 1.8036\n",
      "Epoch 24/200\n",
      "101/101 [==============================] - 0s 50us/step - loss: 1.7093\n",
      "Epoch 25/200\n",
      "101/101 [==============================] - 0s 79us/step - loss: 1.6214\n",
      "Epoch 26/200\n",
      "101/101 [==============================] - 0s 40us/step - loss: 1.5413\n",
      "Epoch 27/200\n",
      "101/101 [==============================] - 0s 40us/step - loss: 1.4654\n",
      "Epoch 28/200\n",
      "101/101 [==============================] - 0s 59us/step - loss: 1.3929\n",
      "Epoch 29/200\n",
      "101/101 [==============================] - 0s 30us/step - loss: 1.3240\n",
      "Epoch 30/200\n",
      "101/101 [==============================] - 0s 59us/step - loss: 1.2668\n",
      "Epoch 31/200\n",
      "101/101 [==============================] - 0s 50us/step - loss: 1.2155\n",
      "Epoch 32/200\n",
      "101/101 [==============================] - 0s 50us/step - loss: 1.1555\n",
      "Epoch 33/200\n",
      "101/101 [==============================] - 0s 69us/step - loss: 1.1069\n",
      "Epoch 34/200\n",
      "101/101 [==============================] - 0s 50us/step - loss: 1.0592\n",
      "Epoch 35/200\n",
      "101/101 [==============================] - 0s 40us/step - loss: 1.0016\n",
      "Epoch 36/200\n",
      "101/101 [==============================] - 0s 79us/step - loss: 0.9605\n",
      "Epoch 37/200\n",
      "101/101 [==============================] - 0s 40us/step - loss: 0.9198\n",
      "Epoch 38/200\n",
      "101/101 [==============================] - 0s 79us/step - loss: 0.8771\n",
      "Epoch 39/200\n",
      "101/101 [==============================] - 0s 50us/step - loss: 0.8395\n",
      "Epoch 40/200\n",
      "101/101 [==============================] - 0s 69us/step - loss: 0.7967\n",
      "Epoch 41/200\n",
      "101/101 [==============================] - 0s 50us/step - loss: 0.7638\n",
      "Epoch 42/200\n",
      "101/101 [==============================] - 0s 50us/step - loss: 0.7254\n",
      "Epoch 43/200\n",
      "101/101 [==============================] - 0s 40us/step - loss: 0.6953\n",
      "Epoch 44/200\n",
      "101/101 [==============================] - 0s 59us/step - loss: 0.6671\n",
      "Epoch 45/200\n",
      "101/101 [==============================] - 0s 59us/step - loss: 0.6394\n",
      "Epoch 46/200\n",
      "101/101 [==============================] - 0s 40us/step - loss: 0.6103\n",
      "Epoch 47/200\n",
      "101/101 [==============================] - 0s 69us/step - loss: 0.5805\n",
      "Epoch 48/200\n",
      "101/101 [==============================] - 0s 40us/step - loss: 0.5582\n",
      "Epoch 49/200\n",
      "101/101 [==============================] - 0s 50us/step - loss: 0.5360\n",
      "Epoch 50/200\n",
      "101/101 [==============================] - 0s 59us/step - loss: 0.5169\n",
      "Epoch 51/200\n",
      "101/101 [==============================] - 0s 40us/step - loss: 0.4971\n",
      "Epoch 52/200\n",
      "101/101 [==============================] - 0s 89us/step - loss: 0.4801\n",
      "Epoch 53/200\n",
      "101/101 [==============================] - 0s 30us/step - loss: 0.4611\n",
      "Epoch 54/200\n",
      "101/101 [==============================] - 0s 30us/step - loss: 0.4445\n",
      "Epoch 55/200\n",
      "101/101 [==============================] - 0s 30us/step - loss: 0.4217\n",
      "Epoch 56/200\n",
      "101/101 [==============================] - 0s 59us/step - loss: 0.4077\n",
      "Epoch 57/200\n",
      "101/101 [==============================] - 0s 40us/step - loss: 0.3945\n",
      "Epoch 58/200\n",
      "101/101 [==============================] - 0s 50us/step - loss: 0.3815\n",
      "Epoch 59/200\n",
      "101/101 [==============================] - 0s 50us/step - loss: 0.3682\n",
      "Epoch 60/200\n",
      "101/101 [==============================] - 0s 30us/step - loss: 0.3551\n",
      "Epoch 61/200\n",
      "101/101 [==============================] - 0s 40us/step - loss: 0.3424\n",
      "Epoch 62/200\n",
      "101/101 [==============================] - 0s 59us/step - loss: 0.3305\n",
      "Epoch 63/200\n",
      "101/101 [==============================] - 0s 40us/step - loss: 0.3211\n",
      "Epoch 64/200\n",
      "101/101 [==============================] - 0s 50us/step - loss: 0.3121\n",
      "Epoch 65/200\n",
      "101/101 [==============================] - 0s 59us/step - loss: 0.3017\n",
      "Epoch 66/200\n",
      "101/101 [==============================] - 0s 40us/step - loss: 0.2922\n",
      "Epoch 67/200\n",
      "101/101 [==============================] - 0s 40us/step - loss: 0.2852\n",
      "Epoch 68/200\n",
      "101/101 [==============================] - 0s 69us/step - loss: 0.2785\n",
      "Epoch 69/200\n",
      "101/101 [==============================] - 0s 40us/step - loss: 0.2713\n",
      "Epoch 70/200\n",
      "101/101 [==============================] - 0s 40us/step - loss: 0.2645\n",
      "Epoch 71/200\n",
      "101/101 [==============================] - 0s 89us/step - loss: 0.2576\n",
      "Epoch 72/200\n",
      "101/101 [==============================] - 0s 69us/step - loss: 0.2518\n",
      "Epoch 73/200\n",
      "101/101 [==============================] - 0s 109us/step - loss: 0.2449\n",
      "Epoch 74/200\n",
      "101/101 [==============================] - 0s 50us/step - loss: 0.2391\n",
      "Epoch 75/200\n",
      "101/101 [==============================] - 0s 40us/step - loss: 0.2333\n",
      "Epoch 76/200\n",
      "101/101 [==============================] - 0s 79us/step - loss: 0.2287\n",
      "Epoch 77/200\n",
      "101/101 [==============================] - 0s 40us/step - loss: 0.2235\n",
      "Epoch 78/200\n",
      "101/101 [==============================] - 0s 30us/step - loss: 0.2189\n",
      "Epoch 79/200\n",
      "101/101 [==============================] - 0s 188us/step - loss: 0.2155\n",
      "Epoch 80/200\n",
      "101/101 [==============================] - 0s 40us/step - loss: 0.2124\n",
      "Epoch 81/200\n",
      "101/101 [==============================] - 0s 30us/step - loss: 0.2094\n",
      "Epoch 82/200\n",
      "101/101 [==============================] - 0s 79us/step - loss: 0.2059\n",
      "Epoch 83/200\n",
      "101/101 [==============================] - 0s 50us/step - loss: 0.2025\n",
      "Epoch 84/200\n",
      "101/101 [==============================] - 0s 40us/step - loss: 0.1992\n",
      "Epoch 85/200\n",
      "101/101 [==============================] - 0s 50us/step - loss: 0.1950\n",
      "Epoch 86/200\n",
      "101/101 [==============================] - 0s 40us/step - loss: 0.1916\n",
      "Epoch 87/200\n",
      "101/101 [==============================] - 0s 40us/step - loss: 0.1879\n",
      "Epoch 88/200\n",
      "101/101 [==============================] - 0s 79us/step - loss: 0.1858\n",
      "Epoch 89/200\n",
      "101/101 [==============================] - 0s 50us/step - loss: 0.1836\n",
      "Epoch 90/200\n",
      "101/101 [==============================] - 0s 40us/step - loss: 0.1816\n",
      "Epoch 91/200\n",
      "101/101 [==============================] - 0s 40us/step - loss: 0.1796\n",
      "Epoch 92/200\n",
      "101/101 [==============================] - 0s 59us/step - loss: 0.1781\n",
      "Epoch 93/200\n",
      "101/101 [==============================] - 0s 40us/step - loss: 0.1763\n",
      "Epoch 94/200\n",
      "101/101 [==============================] - 0s 30us/step - loss: 0.1744\n",
      "Epoch 95/200\n"
     ]
    },
    {
     "name": "stdout",
     "output_type": "stream",
     "text": [
      "101/101 [==============================] - 0s 30us/step - loss: 0.1726\n",
      "Epoch 96/200\n",
      "101/101 [==============================] - 0s 40us/step - loss: 0.1709\n",
      "Epoch 97/200\n",
      "101/101 [==============================] - 0s 40us/step - loss: 0.1696\n",
      "Epoch 98/200\n",
      "101/101 [==============================] - 0s 40us/step - loss: 0.1682\n",
      "Epoch 99/200\n",
      "101/101 [==============================] - 0s 79us/step - loss: 0.1667\n",
      "Epoch 100/200\n",
      "101/101 [==============================] - 0s 30us/step - loss: 0.1651\n",
      "Epoch 101/200\n",
      "101/101 [==============================] - 0s 40us/step - loss: 0.1637\n",
      "Epoch 102/200\n",
      "101/101 [==============================] - 0s 40us/step - loss: 0.1626\n",
      "Epoch 103/200\n",
      "101/101 [==============================] - 0s 40us/step - loss: 0.1610\n",
      "Epoch 104/200\n",
      "101/101 [==============================] - 0s 40us/step - loss: 0.1600\n",
      "Epoch 105/200\n",
      "101/101 [==============================] - 0s 40us/step - loss: 0.1591\n",
      "Epoch 106/200\n",
      "101/101 [==============================] - 0s 40us/step - loss: 0.1583\n",
      "Epoch 107/200\n",
      "101/101 [==============================] - 0s 30us/step - loss: 0.1572\n",
      "Epoch 108/200\n",
      "101/101 [==============================] - 0s 40us/step - loss: 0.1562\n",
      "Epoch 109/200\n",
      "101/101 [==============================] - 0s 40us/step - loss: 0.1555\n",
      "Epoch 110/200\n",
      "101/101 [==============================] - 0s 79us/step - loss: 0.1548\n",
      "Epoch 111/200\n",
      "101/101 [==============================] - 0s 59us/step - loss: 0.1539\n",
      "Epoch 112/200\n",
      "101/101 [==============================] - 0s 40us/step - loss: 0.1529\n",
      "Epoch 113/200\n",
      "101/101 [==============================] - 0s 50us/step - loss: 0.1519\n",
      "Epoch 114/200\n",
      "101/101 [==============================] - 0s 59us/step - loss: 0.1512\n",
      "Epoch 115/200\n",
      "101/101 [==============================] - 0s 50us/step - loss: 0.1510\n",
      "Epoch 116/200\n",
      "101/101 [==============================] - 0s 50us/step - loss: 0.1504\n",
      "Epoch 117/200\n",
      "101/101 [==============================] - 0s 50us/step - loss: 0.1501\n",
      "Epoch 118/200\n",
      "101/101 [==============================] - 0s 40us/step - loss: 0.1496\n",
      "Epoch 119/200\n",
      "101/101 [==============================] - 0s 40us/step - loss: 0.1488\n",
      "Epoch 120/200\n",
      "101/101 [==============================] - 0s 50us/step - loss: 0.1485\n",
      "Epoch 121/200\n",
      "101/101 [==============================] - 0s 40us/step - loss: 0.1481\n",
      "Epoch 122/200\n",
      "101/101 [==============================] - 0s 50us/step - loss: 0.1477\n",
      "Epoch 123/200\n",
      "101/101 [==============================] - 0s 50us/step - loss: 0.1474\n",
      "Epoch 124/200\n",
      "101/101 [==============================] - 0s 40us/step - loss: 0.1470\n",
      "Epoch 125/200\n",
      "101/101 [==============================] - 0s 40us/step - loss: 0.1465\n",
      "Epoch 126/200\n",
      "101/101 [==============================] - 0s 40us/step - loss: 0.1462\n",
      "Epoch 127/200\n",
      "101/101 [==============================] - 0s 40us/step - loss: 0.1459\n",
      "Epoch 128/200\n",
      "101/101 [==============================] - 0s 50us/step - loss: 0.1459\n",
      "Epoch 129/200\n",
      "101/101 [==============================] - 0s 50us/step - loss: 0.1458\n",
      "Epoch 130/200\n",
      "101/101 [==============================] - 0s 40us/step - loss: 0.1453\n",
      "Epoch 131/200\n",
      "101/101 [==============================] - 0s 50us/step - loss: 0.1451\n",
      "Epoch 132/200\n",
      "101/101 [==============================] - 0s 50us/step - loss: 0.1449\n",
      "Epoch 133/200\n",
      "101/101 [==============================] - 0s 40us/step - loss: 0.1443\n",
      "Epoch 134/200\n",
      "101/101 [==============================] - 0s 50us/step - loss: 0.1440\n",
      "Epoch 135/200\n",
      "101/101 [==============================] - 0s 40us/step - loss: 0.1441\n",
      "Epoch 136/200\n",
      "101/101 [==============================] - 0s 40us/step - loss: 0.1437\n",
      "Epoch 137/200\n",
      "101/101 [==============================] - 0s 50us/step - loss: 0.1435\n",
      "Epoch 138/200\n",
      "101/101 [==============================] - 0s 40us/step - loss: 0.1435\n",
      "Epoch 139/200\n",
      "101/101 [==============================] - 0s 40us/step - loss: 0.1433\n",
      "Epoch 140/200\n",
      "101/101 [==============================] - 0s 40us/step - loss: 0.1430\n",
      "Epoch 141/200\n",
      "101/101 [==============================] - 0s 40us/step - loss: 0.1431\n",
      "Epoch 142/200\n",
      "101/101 [==============================] - 0s 40us/step - loss: 0.1426\n",
      "Epoch 143/200\n",
      "101/101 [==============================] - 0s 40us/step - loss: 0.1427\n",
      "Epoch 144/200\n",
      "101/101 [==============================] - 0s 40us/step - loss: 0.1424\n",
      "Epoch 145/200\n",
      "101/101 [==============================] - 0s 30us/step - loss: 0.1421\n",
      "Epoch 146/200\n",
      "101/101 [==============================] - 0s 50us/step - loss: 0.1418\n",
      "Epoch 147/200\n",
      "101/101 [==============================] - 0s 40us/step - loss: 0.1416\n",
      "Epoch 148/200\n",
      "101/101 [==============================] - 0s 30us/step - loss: 0.1416\n",
      "Epoch 149/200\n",
      "101/101 [==============================] - 0s 40us/step - loss: 0.1413\n",
      "Epoch 150/200\n",
      "101/101 [==============================] - 0s 40us/step - loss: 0.1411\n",
      "Epoch 151/200\n",
      "101/101 [==============================] - 0s 40us/step - loss: 0.1411\n",
      "Epoch 152/200\n",
      "101/101 [==============================] - 0s 50us/step - loss: 0.1411\n",
      "Epoch 153/200\n",
      "101/101 [==============================] - 0s 50us/step - loss: 0.1411\n",
      "Epoch 154/200\n",
      "101/101 [==============================] - 0s 40us/step - loss: 0.1409\n",
      "Epoch 155/200\n",
      "101/101 [==============================] - 0s 40us/step - loss: 0.1408\n",
      "Epoch 156/200\n",
      "101/101 [==============================] - 0s 40us/step - loss: 0.1407\n",
      "Epoch 157/200\n",
      "101/101 [==============================] - 0s 40us/step - loss: 0.1407\n",
      "Epoch 158/200\n",
      "101/101 [==============================] - 0s 50us/step - loss: 0.1407\n",
      "Epoch 159/200\n",
      "101/101 [==============================] - 0s 40us/step - loss: 0.1406\n",
      "Epoch 160/200\n",
      "101/101 [==============================] - 0s 50us/step - loss: 0.1405\n",
      "Epoch 161/200\n",
      "101/101 [==============================] - 0s 59us/step - loss: 0.1405\n",
      "Epoch 162/200\n",
      "101/101 [==============================] - 0s 40us/step - loss: 0.1406\n",
      "Epoch 163/200\n",
      "101/101 [==============================] - 0s 40us/step - loss: 0.1404\n",
      "Epoch 164/200\n",
      "101/101 [==============================] - 0s 50us/step - loss: 0.1403\n",
      "Epoch 165/200\n",
      "101/101 [==============================] - 0s 40us/step - loss: 0.1403\n",
      "Epoch 166/200\n",
      "101/101 [==============================] - 0s 40us/step - loss: 0.1403\n",
      "Epoch 167/200\n",
      "101/101 [==============================] - 0s 40us/step - loss: 0.1402\n",
      "Epoch 168/200\n",
      "101/101 [==============================] - 0s 40us/step - loss: 0.1402\n",
      "Epoch 169/200\n",
      "101/101 [==============================] - 0s 59us/step - loss: 0.1401\n",
      "Epoch 170/200\n",
      "101/101 [==============================] - 0s 40us/step - loss: 0.1398\n",
      "Epoch 171/200\n",
      "101/101 [==============================] - 0s 40us/step - loss: 0.1399\n",
      "Epoch 172/200\n",
      "101/101 [==============================] - 0s 50us/step - loss: 0.1398\n",
      "Epoch 173/200\n",
      "101/101 [==============================] - 0s 30us/step - loss: 0.1396\n",
      "Epoch 174/200\n",
      "101/101 [==============================] - 0s 30us/step - loss: 0.1396\n",
      "Epoch 175/200\n",
      "101/101 [==============================] - 0s 59us/step - loss: 0.1397\n",
      "Epoch 176/200\n",
      "101/101 [==============================] - 0s 50us/step - loss: 0.1397\n",
      "Epoch 177/200\n",
      "101/101 [==============================] - 0s 50us/step - loss: 0.1397\n",
      "Epoch 178/200\n",
      "101/101 [==============================] - 0s 50us/step - loss: 0.1396\n",
      "Epoch 179/200\n",
      "101/101 [==============================] - 0s 40us/step - loss: 0.1396\n",
      "Epoch 180/200\n",
      "101/101 [==============================] - 0s 40us/step - loss: 0.1396\n",
      "Epoch 181/200\n",
      "101/101 [==============================] - 0s 40us/step - loss: 0.1396\n",
      "Epoch 182/200\n",
      "101/101 [==============================] - 0s 40us/step - loss: 0.1395\n",
      "Epoch 183/200\n",
      "101/101 [==============================] - 0s 59us/step - loss: 0.1395\n",
      "Epoch 184/200\n",
      "101/101 [==============================] - 0s 40us/step - loss: 0.1395\n",
      "Epoch 185/200\n",
      "101/101 [==============================] - 0s 30us/step - loss: 0.1394\n",
      "Epoch 186/200\n",
      "101/101 [==============================] - 0s 50us/step - loss: 0.1394\n",
      "Epoch 187/200\n",
      "101/101 [==============================] - 0s 40us/step - loss: 0.1396\n",
      "Epoch 188/200\n",
      "101/101 [==============================] - 0s 50us/step - loss: 0.1396\n",
      "Epoch 189/200\n",
      "101/101 [==============================] - 0s 30us/step - loss: 0.1395\n",
      "Epoch 190/200\n",
      "101/101 [==============================] - 0s 50us/step - loss: 0.1395\n",
      "Epoch 191/200\n"
     ]
    },
    {
     "name": "stdout",
     "output_type": "stream",
     "text": [
      "101/101 [==============================] - 0s 50us/step - loss: 0.1394\n",
      "Epoch 192/200\n",
      "101/101 [==============================] - 0s 40us/step - loss: 0.1395\n",
      "Epoch 193/200\n",
      "101/101 [==============================] - 0s 40us/step - loss: 0.1394\n",
      "Epoch 194/200\n",
      "101/101 [==============================] - 0s 59us/step - loss: 0.1395\n",
      "Epoch 195/200\n",
      "101/101 [==============================] - 0s 50us/step - loss: 0.1394\n",
      "Epoch 196/200\n",
      "101/101 [==============================] - 0s 40us/step - loss: 0.1393\n",
      "Epoch 197/200\n",
      "101/101 [==============================] - 0s 40us/step - loss: 0.1394\n",
      "Epoch 198/200\n",
      "101/101 [==============================] - 0s 59us/step - loss: 0.1394\n",
      "Epoch 199/200\n",
      "101/101 [==============================] - 0s 79us/step - loss: 0.1396\n",
      "Epoch 200/200\n",
      "101/101 [==============================] - 0s 79us/step - loss: 0.1395\n"
     ]
    },
    {
     "data": {
      "text/plain": [
       "<keras.callbacks.History at 0x1461e630>"
      ]
     },
     "execution_count": 18,
     "metadata": {},
     "output_type": "execute_result"
    }
   ],
   "source": [
    "model.fit(train_data_X, train_data_y, epochs=200, verbose=1)"
   ]
  },
  {
   "cell_type": "code",
   "execution_count": 19,
   "metadata": {},
   "outputs": [],
   "source": [
    "weights = model.layers[0].get_weights()"
   ]
  },
  {
   "cell_type": "code",
   "execution_count": 20,
   "metadata": {},
   "outputs": [],
   "source": [
    "weight_final = weights[0]"
   ]
  },
  {
   "cell_type": "code",
   "execution_count": 21,
   "metadata": {},
   "outputs": [],
   "source": [
    "bias_final = weights[1]"
   ]
  },
  {
   "cell_type": "code",
   "execution_count": 22,
   "metadata": {},
   "outputs": [
    {
     "name": "stdout",
     "output_type": "stream",
     "text": [
      "linear regression model is trained to have weights w: 4.06, b: -0.04\n"
     ]
    }
   ],
   "source": [
    "print('linear regression model is trained to have weights w: %.2f, b: %.2f' % (weight_final, bias_final))"
   ]
  },
  {
   "cell_type": "code",
   "execution_count": 23,
   "metadata": {},
   "outputs": [],
   "source": [
    "result = model.predict(train_data_X)"
   ]
  },
  {
   "cell_type": "code",
   "execution_count": 24,
   "metadata": {},
   "outputs": [
    {
     "data": {
      "image/png": "[encoded data removed]",
      "text/plain": [
       "<Figure size 432x288 with 1 Axes>"
      ]
     },
     "metadata": {
      "needs_background": "light"
     },
     "output_type": "display_data"
    }
   ],
   "source": [
    "plt.scatter(train_data_X, train_data_y, label='data')\n",
    "plt.plot(train_data_X, result, label='predication', color='red')\n",
    "plt.legend()\n",
    "plt.show()"
   ]
  },
  {
   "cell_type": "code",
   "execution_count": null,
   "metadata": {},
   "outputs": [],
   "source": []
  }
 ],
 "metadata": {
  "kernelspec": {
   "display_name": "Python 3",
   "language": "python",
   "name": "python3"
  },
  "language_info": {
   "codemirror_mode": {
    "name": "ipython",
    "version": 3
   },
   "file_extension": ".py",
   "mimetype": "text/x-python",
   "name": "python",
   "nbconvert_exporter": "python",
   "pygments_lexer": "ipython3",
   "version": "3.7.1"
  }
 },
 "nbformat": 4,
 "nbformat_minor": 2
}
