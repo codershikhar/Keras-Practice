{
 "cells": [
  {
   "cell_type": "code",
   "execution_count": 1,
   "metadata": {},
   "outputs": [],
   "source": [
    "import numpy as np\n",
    "import seaborn as sns\n",
    "from sklearn.model_selection import train_test_split"
   ]
  },
  {
   "cell_type": "code",
   "execution_count": 2,
   "metadata": {},
   "outputs": [
    {
     "name": "stderr",
     "output_type": "stream",
     "text": [
      "Using TensorFlow backend.\n"
     ]
    }
   ],
   "source": [
    "from keras.models import Sequential\n",
    "from keras.layers import Dense, Activation\n",
    "from keras.utils import np_utils"
   ]
  },
  {
   "cell_type": "code",
   "execution_count": 3,
   "metadata": {},
   "outputs": [],
   "source": [
    "iris = sns.load_dataset('iris')"
   ]
  },
  {
   "cell_type": "code",
   "execution_count": 4,
   "metadata": {},
   "outputs": [
    {
     "data": {
      "text/html": [
       "<div>\n",
       "<style scoped>\n",
       "    .dataframe tbody tr th:only-of-type {\n",
       "        vertical-align: middle;\n",
       "    }\n",
       "\n",
       "    .dataframe tbody tr th {\n",
       "        vertical-align: top;\n",
       "    }\n",
       "\n",
       "    .dataframe thead th {\n",
       "        text-align: right;\n",
       "    }\n",
       "</style>\n",
       "<table border=\"1\" class=\"dataframe\">\n",
       "  <thead>\n",
       "    <tr style=\"text-align: right;\">\n",
       "      <th></th>\n",
       "      <th>sepal_length</th>\n",
       "      <th>sepal_width</th>\n",
       "      <th>petal_length</th>\n",
       "      <th>petal_width</th>\n",
       "      <th>species</th>\n",
       "    </tr>\n",
       "  </thead>\n",
       "  <tbody>\n",
       "    <tr>\n",
       "      <th>0</th>\n",
       "      <td>5.1</td>\n",
       "      <td>3.5</td>\n",
       "      <td>1.4</td>\n",
       "      <td>0.2</td>\n",
       "      <td>setosa</td>\n",
       "    </tr>\n",
       "    <tr>\n",
       "      <th>1</th>\n",
       "      <td>4.9</td>\n",
       "      <td>3.0</td>\n",
       "      <td>1.4</td>\n",
       "      <td>0.2</td>\n",
       "      <td>setosa</td>\n",
       "    </tr>\n",
       "    <tr>\n",
       "      <th>2</th>\n",
       "      <td>4.7</td>\n",
       "      <td>3.2</td>\n",
       "      <td>1.3</td>\n",
       "      <td>0.2</td>\n",
       "      <td>setosa</td>\n",
       "    </tr>\n",
       "    <tr>\n",
       "      <th>3</th>\n",
       "      <td>4.6</td>\n",
       "      <td>3.1</td>\n",
       "      <td>1.5</td>\n",
       "      <td>0.2</td>\n",
       "      <td>setosa</td>\n",
       "    </tr>\n",
       "    <tr>\n",
       "      <th>4</th>\n",
       "      <td>5.0</td>\n",
       "      <td>3.6</td>\n",
       "      <td>1.4</td>\n",
       "      <td>0.2</td>\n",
       "      <td>setosa</td>\n",
       "    </tr>\n",
       "  </tbody>\n",
       "</table>\n",
       "</div>"
      ],
      "text/plain": [
       "   sepal_length  sepal_width  petal_length  petal_width species\n",
       "0           5.1          3.5           1.4          0.2  setosa\n",
       "1           4.9          3.0           1.4          0.2  setosa\n",
       "2           4.7          3.2           1.3          0.2  setosa\n",
       "3           4.6          3.1           1.5          0.2  setosa\n",
       "4           5.0          3.6           1.4          0.2  setosa"
      ]
     },
     "execution_count": 4,
     "metadata": {},
     "output_type": "execute_result"
    }
   ],
   "source": [
    "iris.head()"
   ]
  },
  {
   "cell_type": "code",
   "execution_count": 5,
   "metadata": {},
   "outputs": [
    {
     "data": {
      "text/plain": [
       "(150, 5)"
      ]
     },
     "execution_count": 5,
     "metadata": {},
     "output_type": "execute_result"
    }
   ],
   "source": [
    "iris.shape"
   ]
  },
  {
   "cell_type": "code",
   "execution_count": 6,
   "metadata": {},
   "outputs": [],
   "source": [
    "X = iris.values[:, :4]"
   ]
  },
  {
   "cell_type": "code",
   "execution_count": 7,
   "metadata": {},
   "outputs": [
    {
     "data": {
      "text/plain": [
       "array([[5.1, 3.5, 1.4, 0.2],\n",
       "       [4.9, 3.0, 1.4, 0.2],\n",
       "       [4.7, 3.2, 1.3, 0.2],\n",
       "       [4.6, 3.1, 1.5, 0.2],\n",
       "       [5.0, 3.6, 1.4, 0.2],\n",
       "       [5.4, 3.9, 1.7, 0.4],\n",
       "       [4.6, 3.4, 1.4, 0.3],\n",
       "       [5.0, 3.4, 1.5, 0.2],\n",
       "       [4.4, 2.9, 1.4, 0.2],\n",
       "       [4.9, 3.1, 1.5, 0.1],\n",
       "       [5.4, 3.7, 1.5, 0.2],\n",
       "       [4.8, 3.4, 1.6, 0.2],\n",
       "       [4.8, 3.0, 1.4, 0.1],\n",
       "       [4.3, 3.0, 1.1, 0.1],\n",
       "       [5.8, 4.0, 1.2, 0.2],\n",
       "       [5.7, 4.4, 1.5, 0.4],\n",
       "       [5.4, 3.9, 1.3, 0.4],\n",
       "       [5.1, 3.5, 1.4, 0.3],\n",
       "       [5.7, 3.8, 1.7, 0.3],\n",
       "       [5.1, 3.8, 1.5, 0.3],\n",
       "       [5.4, 3.4, 1.7, 0.2],\n",
       "       [5.1, 3.7, 1.5, 0.4],\n",
       "       [4.6, 3.6, 1.0, 0.2],\n",
       "       [5.1, 3.3, 1.7, 0.5],\n",
       "       [4.8, 3.4, 1.9, 0.2],\n",
       "       [5.0, 3.0, 1.6, 0.2],\n",
       "       [5.0, 3.4, 1.6, 0.4],\n",
       "       [5.2, 3.5, 1.5, 0.2],\n",
       "       [5.2, 3.4, 1.4, 0.2],\n",
       "       [4.7, 3.2, 1.6, 0.2],\n",
       "       [4.8, 3.1, 1.6, 0.2],\n",
       "       [5.4, 3.4, 1.5, 0.4],\n",
       "       [5.2, 4.1, 1.5, 0.1],\n",
       "       [5.5, 4.2, 1.4, 0.2],\n",
       "       [4.9, 3.1, 1.5, 0.2],\n",
       "       [5.0, 3.2, 1.2, 0.2],\n",
       "       [5.5, 3.5, 1.3, 0.2],\n",
       "       [4.9, 3.6, 1.4, 0.1],\n",
       "       [4.4, 3.0, 1.3, 0.2],\n",
       "       [5.1, 3.4, 1.5, 0.2],\n",
       "       [5.0, 3.5, 1.3, 0.3],\n",
       "       [4.5, 2.3, 1.3, 0.3],\n",
       "       [4.4, 3.2, 1.3, 0.2],\n",
       "       [5.0, 3.5, 1.6, 0.6],\n",
       "       [5.1, 3.8, 1.9, 0.4],\n",
       "       [4.8, 3.0, 1.4, 0.3],\n",
       "       [5.1, 3.8, 1.6, 0.2],\n",
       "       [4.6, 3.2, 1.4, 0.2],\n",
       "       [5.3, 3.7, 1.5, 0.2],\n",
       "       [5.0, 3.3, 1.4, 0.2],\n",
       "       [7.0, 3.2, 4.7, 1.4],\n",
       "       [6.4, 3.2, 4.5, 1.5],\n",
       "       [6.9, 3.1, 4.9, 1.5],\n",
       "       [5.5, 2.3, 4.0, 1.3],\n",
       "       [6.5, 2.8, 4.6, 1.5],\n",
       "       [5.7, 2.8, 4.5, 1.3],\n",
       "       [6.3, 3.3, 4.7, 1.6],\n",
       "       [4.9, 2.4, 3.3, 1.0],\n",
       "       [6.6, 2.9, 4.6, 1.3],\n",
       "       [5.2, 2.7, 3.9, 1.4],\n",
       "       [5.0, 2.0, 3.5, 1.0],\n",
       "       [5.9, 3.0, 4.2, 1.5],\n",
       "       [6.0, 2.2, 4.0, 1.0],\n",
       "       [6.1, 2.9, 4.7, 1.4],\n",
       "       [5.6, 2.9, 3.6, 1.3],\n",
       "       [6.7, 3.1, 4.4, 1.4],\n",
       "       [5.6, 3.0, 4.5, 1.5],\n",
       "       [5.8, 2.7, 4.1, 1.0],\n",
       "       [6.2, 2.2, 4.5, 1.5],\n",
       "       [5.6, 2.5, 3.9, 1.1],\n",
       "       [5.9, 3.2, 4.8, 1.8],\n",
       "       [6.1, 2.8, 4.0, 1.3],\n",
       "       [6.3, 2.5, 4.9, 1.5],\n",
       "       [6.1, 2.8, 4.7, 1.2],\n",
       "       [6.4, 2.9, 4.3, 1.3],\n",
       "       [6.6, 3.0, 4.4, 1.4],\n",
       "       [6.8, 2.8, 4.8, 1.4],\n",
       "       [6.7, 3.0, 5.0, 1.7],\n",
       "       [6.0, 2.9, 4.5, 1.5],\n",
       "       [5.7, 2.6, 3.5, 1.0],\n",
       "       [5.5, 2.4, 3.8, 1.1],\n",
       "       [5.5, 2.4, 3.7, 1.0],\n",
       "       [5.8, 2.7, 3.9, 1.2],\n",
       "       [6.0, 2.7, 5.1, 1.6],\n",
       "       [5.4, 3.0, 4.5, 1.5],\n",
       "       [6.0, 3.4, 4.5, 1.6],\n",
       "       [6.7, 3.1, 4.7, 1.5],\n",
       "       [6.3, 2.3, 4.4, 1.3],\n",
       "       [5.6, 3.0, 4.1, 1.3],\n",
       "       [5.5, 2.5, 4.0, 1.3],\n",
       "       [5.5, 2.6, 4.4, 1.2],\n",
       "       [6.1, 3.0, 4.6, 1.4],\n",
       "       [5.8, 2.6, 4.0, 1.2],\n",
       "       [5.0, 2.3, 3.3, 1.0],\n",
       "       [5.6, 2.7, 4.2, 1.3],\n",
       "       [5.7, 3.0, 4.2, 1.2],\n",
       "       [5.7, 2.9, 4.2, 1.3],\n",
       "       [6.2, 2.9, 4.3, 1.3],\n",
       "       [5.1, 2.5, 3.0, 1.1],\n",
       "       [5.7, 2.8, 4.1, 1.3],\n",
       "       [6.3, 3.3, 6.0, 2.5],\n",
       "       [5.8, 2.7, 5.1, 1.9],\n",
       "       [7.1, 3.0, 5.9, 2.1],\n",
       "       [6.3, 2.9, 5.6, 1.8],\n",
       "       [6.5, 3.0, 5.8, 2.2],\n",
       "       [7.6, 3.0, 6.6, 2.1],\n",
       "       [4.9, 2.5, 4.5, 1.7],\n",
       "       [7.3, 2.9, 6.3, 1.8],\n",
       "       [6.7, 2.5, 5.8, 1.8],\n",
       "       [7.2, 3.6, 6.1, 2.5],\n",
       "       [6.5, 3.2, 5.1, 2.0],\n",
       "       [6.4, 2.7, 5.3, 1.9],\n",
       "       [6.8, 3.0, 5.5, 2.1],\n",
       "       [5.7, 2.5, 5.0, 2.0],\n",
       "       [5.8, 2.8, 5.1, 2.4],\n",
       "       [6.4, 3.2, 5.3, 2.3],\n",
       "       [6.5, 3.0, 5.5, 1.8],\n",
       "       [7.7, 3.8, 6.7, 2.2],\n",
       "       [7.7, 2.6, 6.9, 2.3],\n",
       "       [6.0, 2.2, 5.0, 1.5],\n",
       "       [6.9, 3.2, 5.7, 2.3],\n",
       "       [5.6, 2.8, 4.9, 2.0],\n",
       "       [7.7, 2.8, 6.7, 2.0],\n",
       "       [6.3, 2.7, 4.9, 1.8],\n",
       "       [6.7, 3.3, 5.7, 2.1],\n",
       "       [7.2, 3.2, 6.0, 1.8],\n",
       "       [6.2, 2.8, 4.8, 1.8],\n",
       "       [6.1, 3.0, 4.9, 1.8],\n",
       "       [6.4, 2.8, 5.6, 2.1],\n",
       "       [7.2, 3.0, 5.8, 1.6],\n",
       "       [7.4, 2.8, 6.1, 1.9],\n",
       "       [7.9, 3.8, 6.4, 2.0],\n",
       "       [6.4, 2.8, 5.6, 2.2],\n",
       "       [6.3, 2.8, 5.1, 1.5],\n",
       "       [6.1, 2.6, 5.6, 1.4],\n",
       "       [7.7, 3.0, 6.1, 2.3],\n",
       "       [6.3, 3.4, 5.6, 2.4],\n",
       "       [6.4, 3.1, 5.5, 1.8],\n",
       "       [6.0, 3.0, 4.8, 1.8],\n",
       "       [6.9, 3.1, 5.4, 2.1],\n",
       "       [6.7, 3.1, 5.6, 2.4],\n",
       "       [6.9, 3.1, 5.1, 2.3],\n",
       "       [5.8, 2.7, 5.1, 1.9],\n",
       "       [6.8, 3.2, 5.9, 2.3],\n",
       "       [6.7, 3.3, 5.7, 2.5],\n",
       "       [6.7, 3.0, 5.2, 2.3],\n",
       "       [6.3, 2.5, 5.0, 1.9],\n",
       "       [6.5, 3.0, 5.2, 2.0],\n",
       "       [6.2, 3.4, 5.4, 2.3],\n",
       "       [5.9, 3.0, 5.1, 1.8]], dtype=object)"
      ]
     },
     "execution_count": 7,
     "metadata": {},
     "output_type": "execute_result"
    }
   ],
   "source": [
    "X"
   ]
  },
  {
   "cell_type": "code",
   "execution_count": 8,
   "metadata": {},
   "outputs": [],
   "source": [
    "y = iris.values[:, 4]"
   ]
  },
  {
   "cell_type": "code",
   "execution_count": 9,
   "metadata": {},
   "outputs": [
    {
     "data": {
      "text/plain": [
       "array(['setosa', 'setosa', 'setosa', 'setosa', 'setosa', 'setosa',\n",
       "       'setosa', 'setosa', 'setosa', 'setosa', 'setosa', 'setosa',\n",
       "       'setosa', 'setosa', 'setosa', 'setosa', 'setosa', 'setosa',\n",
       "       'setosa', 'setosa', 'setosa', 'setosa', 'setosa', 'setosa',\n",
       "       'setosa', 'setosa', 'setosa', 'setosa', 'setosa', 'setosa',\n",
       "       'setosa', 'setosa', 'setosa', 'setosa', 'setosa', 'setosa',\n",
       "       'setosa', 'setosa', 'setosa', 'setosa', 'setosa', 'setosa',\n",
       "       'setosa', 'setosa', 'setosa', 'setosa', 'setosa', 'setosa',\n",
       "       'setosa', 'setosa', 'versicolor', 'versicolor', 'versicolor',\n",
       "       'versicolor', 'versicolor', 'versicolor', 'versicolor',\n",
       "       'versicolor', 'versicolor', 'versicolor', 'versicolor',\n",
       "       'versicolor', 'versicolor', 'versicolor', 'versicolor',\n",
       "       'versicolor', 'versicolor', 'versicolor', 'versicolor',\n",
       "       'versicolor', 'versicolor', 'versicolor', 'versicolor',\n",
       "       'versicolor', 'versicolor', 'versicolor', 'versicolor',\n",
       "       'versicolor', 'versicolor', 'versicolor', 'versicolor',\n",
       "       'versicolor', 'versicolor', 'versicolor', 'versicolor',\n",
       "       'versicolor', 'versicolor', 'versicolor', 'versicolor',\n",
       "       'versicolor', 'versicolor', 'versicolor', 'versicolor',\n",
       "       'versicolor', 'versicolor', 'versicolor', 'versicolor',\n",
       "       'versicolor', 'versicolor', 'versicolor', 'virginica', 'virginica',\n",
       "       'virginica', 'virginica', 'virginica', 'virginica', 'virginica',\n",
       "       'virginica', 'virginica', 'virginica', 'virginica', 'virginica',\n",
       "       'virginica', 'virginica', 'virginica', 'virginica', 'virginica',\n",
       "       'virginica', 'virginica', 'virginica', 'virginica', 'virginica',\n",
       "       'virginica', 'virginica', 'virginica', 'virginica', 'virginica',\n",
       "       'virginica', 'virginica', 'virginica', 'virginica', 'virginica',\n",
       "       'virginica', 'virginica', 'virginica', 'virginica', 'virginica',\n",
       "       'virginica', 'virginica', 'virginica', 'virginica', 'virginica',\n",
       "       'virginica', 'virginica', 'virginica', 'virginica', 'virginica',\n",
       "       'virginica', 'virginica', 'virginica'], dtype=object)"
      ]
     },
     "execution_count": 9,
     "metadata": {},
     "output_type": "execute_result"
    }
   ],
   "source": [
    "y"
   ]
  },
  {
   "cell_type": "code",
   "execution_count": 10,
   "metadata": {},
   "outputs": [],
   "source": [
    "train_X, test_X, train_y, test_y = train_test_split(X, y, train_size=0.5, test_size=0.5, random_state=0)"
   ]
  },
  {
   "cell_type": "code",
   "execution_count": 11,
   "metadata": {
    "scrolled": true
   },
   "outputs": [
    {
     "data": {
      "text/plain": [
       "array([[4.6, 3.1, 1.5, 0.2],\n",
       "       [5.9, 3.0, 5.1, 1.8],\n",
       "       [5.1, 2.5, 3.0, 1.1],\n",
       "       [4.6, 3.4, 1.4, 0.3],\n",
       "       [6.2, 2.2, 4.5, 1.5],\n",
       "       [7.2, 3.6, 6.1, 2.5],\n",
       "       [5.7, 2.9, 4.2, 1.3],\n",
       "       [4.8, 3.0, 1.4, 0.1],\n",
       "       [7.1, 3.0, 5.9, 2.1],\n",
       "       [6.9, 3.2, 5.7, 2.3],\n",
       "       [6.5, 3.0, 5.8, 2.2],\n",
       "       [6.4, 2.8, 5.6, 2.1],\n",
       "       [5.1, 3.8, 1.6, 0.2],\n",
       "       [4.8, 3.4, 1.6, 0.2],\n",
       "       [6.5, 3.2, 5.1, 2.0],\n",
       "       [6.7, 3.3, 5.7, 2.1],\n",
       "       [4.5, 2.3, 1.3, 0.3],\n",
       "       [6.2, 3.4, 5.4, 2.3],\n",
       "       [4.9, 3.0, 1.4, 0.2],\n",
       "       [5.7, 2.5, 5.0, 2.0],\n",
       "       [6.9, 3.1, 5.4, 2.1],\n",
       "       [4.4, 3.2, 1.3, 0.2],\n",
       "       [5.0, 3.6, 1.4, 0.2],\n",
       "       [7.2, 3.0, 5.8, 1.6],\n",
       "       [5.1, 3.5, 1.4, 0.3],\n",
       "       [4.4, 3.0, 1.3, 0.2],\n",
       "       [5.4, 3.9, 1.7, 0.4],\n",
       "       [5.5, 2.3, 4.0, 1.3],\n",
       "       [6.8, 3.2, 5.9, 2.3],\n",
       "       [7.6, 3.0, 6.6, 2.1],\n",
       "       [5.1, 3.5, 1.4, 0.2],\n",
       "       [4.9, 3.1, 1.5, 0.2],\n",
       "       [5.2, 3.4, 1.4, 0.2],\n",
       "       [5.7, 2.8, 4.5, 1.3],\n",
       "       [6.6, 3.0, 4.4, 1.4],\n",
       "       [5.0, 3.2, 1.2, 0.2],\n",
       "       [5.1, 3.3, 1.7, 0.5],\n",
       "       [6.4, 2.9, 4.3, 1.3],\n",
       "       [5.4, 3.4, 1.5, 0.4],\n",
       "       [7.7, 2.6, 6.9, 2.3],\n",
       "       [4.9, 2.4, 3.3, 1.0],\n",
       "       [7.9, 3.8, 6.4, 2.0],\n",
       "       [6.7, 3.1, 4.4, 1.4],\n",
       "       [5.2, 4.1, 1.5, 0.1],\n",
       "       [6.0, 3.0, 4.8, 1.8],\n",
       "       [5.8, 4.0, 1.2, 0.2],\n",
       "       [7.7, 2.8, 6.7, 2.0],\n",
       "       [5.1, 3.8, 1.5, 0.3],\n",
       "       [4.7, 3.2, 1.6, 0.2],\n",
       "       [7.4, 2.8, 6.1, 1.9],\n",
       "       [5.0, 3.3, 1.4, 0.2],\n",
       "       [6.3, 3.4, 5.6, 2.4],\n",
       "       [5.7, 2.8, 4.1, 1.3],\n",
       "       [5.8, 2.7, 3.9, 1.2],\n",
       "       [5.7, 2.6, 3.5, 1.0],\n",
       "       [6.4, 3.2, 5.3, 2.3],\n",
       "       [6.7, 3.0, 5.2, 2.3],\n",
       "       [6.3, 2.5, 4.9, 1.5],\n",
       "       [6.7, 3.0, 5.0, 1.7],\n",
       "       [5.0, 3.0, 1.6, 0.2],\n",
       "       [5.5, 2.4, 3.7, 1.0],\n",
       "       [6.7, 3.1, 5.6, 2.4],\n",
       "       [5.8, 2.7, 5.1, 1.9],\n",
       "       [5.1, 3.4, 1.5, 0.2],\n",
       "       [6.6, 2.9, 4.6, 1.3],\n",
       "       [5.6, 3.0, 4.1, 1.3],\n",
       "       [5.9, 3.2, 4.8, 1.8],\n",
       "       [6.3, 2.3, 4.4, 1.3],\n",
       "       [5.5, 3.5, 1.3, 0.2],\n",
       "       [5.1, 3.7, 1.5, 0.4],\n",
       "       [4.9, 3.1, 1.5, 0.1],\n",
       "       [6.3, 2.9, 5.6, 1.8],\n",
       "       [5.8, 2.7, 4.1, 1.0],\n",
       "       [7.7, 3.8, 6.7, 2.2],\n",
       "       [4.6, 3.2, 1.4, 0.2]], dtype=object)"
      ]
     },
     "execution_count": 11,
     "metadata": {},
     "output_type": "execute_result"
    }
   ],
   "source": [
    "train_X"
   ]
  },
  {
   "cell_type": "code",
   "execution_count": 12,
   "metadata": {},
   "outputs": [
    {
     "data": {
      "text/plain": [
       "array(['setosa', 'virginica', 'versicolor', 'setosa', 'versicolor',\n",
       "       'virginica', 'versicolor', 'setosa', 'virginica', 'virginica',\n",
       "       'virginica', 'virginica', 'setosa', 'setosa', 'virginica',\n",
       "       'virginica', 'setosa', 'virginica', 'setosa', 'virginica',\n",
       "       'virginica', 'setosa', 'setosa', 'virginica', 'setosa', 'setosa',\n",
       "       'setosa', 'versicolor', 'virginica', 'virginica', 'setosa',\n",
       "       'setosa', 'setosa', 'versicolor', 'versicolor', 'setosa', 'setosa',\n",
       "       'versicolor', 'setosa', 'virginica', 'versicolor', 'virginica',\n",
       "       'versicolor', 'setosa', 'virginica', 'setosa', 'virginica',\n",
       "       'setosa', 'setosa', 'virginica', 'setosa', 'virginica',\n",
       "       'versicolor', 'versicolor', 'versicolor', 'virginica', 'virginica',\n",
       "       'versicolor', 'versicolor', 'setosa', 'versicolor', 'virginica',\n",
       "       'virginica', 'setosa', 'versicolor', 'versicolor', 'versicolor',\n",
       "       'versicolor', 'setosa', 'setosa', 'setosa', 'virginica',\n",
       "       'versicolor', 'virginica', 'setosa'], dtype=object)"
      ]
     },
     "execution_count": 12,
     "metadata": {},
     "output_type": "execute_result"
    }
   ],
   "source": [
    "train_y"
   ]
  },
  {
   "cell_type": "code",
   "execution_count": 13,
   "metadata": {},
   "outputs": [],
   "source": [
    "def one_hot_encoder(array):\n",
    "    unique_values, indices = np.unique(array, return_inverse=True)\n",
    "    \n",
    "    print('Unique values: ', unique_values)\n",
    "    print('indices: ', indices)\n",
    "    \n",
    "    one_hot_encoded_data = np_utils.to_categorical(indices, len(unique_values))\n",
    "    return one_hot_encoded_data"
   ]
  },
  {
   "cell_type": "code",
   "execution_count": 14,
   "metadata": {},
   "outputs": [
    {
     "name": "stdout",
     "output_type": "stream",
     "text": [
      "Unique values:  ['setosa' 'versicolor' 'virginica']\n",
      "indices:  [0 2 1 0 1 2 1 0 2 2 2 2 0 0 2 2 0 2 0 2 2 0 0 2 0 0 0 1 2 2 0 0 0 1 1 0 0\n",
      " 1 0 2 1 2 1 0 2 0 2 0 0 2 0 2 1 1 1 2 2 1 1 0 1 2 2 0 1 1 1 1 0 0 0 2 1 2\n",
      " 0]\n"
     ]
    }
   ],
   "source": [
    "ohe_train_y = one_hot_encoder(train_y)"
   ]
  },
  {
   "cell_type": "code",
   "execution_count": 15,
   "metadata": {},
   "outputs": [
    {
     "name": "stdout",
     "output_type": "stream",
     "text": [
      "Unique values:  ['setosa' 'versicolor' 'virginica']\n",
      "indices:  [2 1 0 2 0 2 0 1 1 1 2 1 1 1 1 0 1 1 0 0 2 1 0 0 2 0 0 1 1 0 2 1 0 2 2 1 0\n",
      " 1 1 1 2 0 2 0 0 1 2 2 2 2 1 2 1 1 2 2 2 2 1 2 1 0 2 1 1 1 1 2 0 0 2 1 0 0\n",
      " 1]\n"
     ]
    }
   ],
   "source": [
    "ohe_test_y = one_hot_encoder(test_y)"
   ]
  },
  {
   "cell_type": "code",
   "execution_count": 16,
   "metadata": {
    "scrolled": true
   },
   "outputs": [
    {
     "data": {
      "text/plain": [
       "array([[0., 0., 1.],\n",
       "       [0., 1., 0.],\n",
       "       [1., 0., 0.],\n",
       "       [0., 0., 1.],\n",
       "       [1., 0., 0.],\n",
       "       [0., 0., 1.],\n",
       "       [1., 0., 0.],\n",
       "       [0., 1., 0.],\n",
       "       [0., 1., 0.],\n",
       "       [0., 1., 0.],\n",
       "       [0., 0., 1.],\n",
       "       [0., 1., 0.],\n",
       "       [0., 1., 0.],\n",
       "       [0., 1., 0.],\n",
       "       [0., 1., 0.],\n",
       "       [1., 0., 0.],\n",
       "       [0., 1., 0.],\n",
       "       [0., 1., 0.],\n",
       "       [1., 0., 0.],\n",
       "       [1., 0., 0.],\n",
       "       [0., 0., 1.],\n",
       "       [0., 1., 0.],\n",
       "       [1., 0., 0.],\n",
       "       [1., 0., 0.],\n",
       "       [0., 0., 1.],\n",
       "       [1., 0., 0.],\n",
       "       [1., 0., 0.],\n",
       "       [0., 1., 0.],\n",
       "       [0., 1., 0.],\n",
       "       [1., 0., 0.],\n",
       "       [0., 0., 1.],\n",
       "       [0., 1., 0.],\n",
       "       [1., 0., 0.],\n",
       "       [0., 0., 1.],\n",
       "       [0., 0., 1.],\n",
       "       [0., 1., 0.],\n",
       "       [1., 0., 0.],\n",
       "       [0., 1., 0.],\n",
       "       [0., 1., 0.],\n",
       "       [0., 1., 0.],\n",
       "       [0., 0., 1.],\n",
       "       [1., 0., 0.],\n",
       "       [0., 0., 1.],\n",
       "       [1., 0., 0.],\n",
       "       [1., 0., 0.],\n",
       "       [0., 1., 0.],\n",
       "       [0., 0., 1.],\n",
       "       [0., 0., 1.],\n",
       "       [0., 0., 1.],\n",
       "       [0., 0., 1.],\n",
       "       [0., 1., 0.],\n",
       "       [0., 0., 1.],\n",
       "       [0., 1., 0.],\n",
       "       [0., 1., 0.],\n",
       "       [0., 0., 1.],\n",
       "       [0., 0., 1.],\n",
       "       [0., 0., 1.],\n",
       "       [0., 0., 1.],\n",
       "       [0., 1., 0.],\n",
       "       [0., 0., 1.],\n",
       "       [0., 1., 0.],\n",
       "       [1., 0., 0.],\n",
       "       [0., 0., 1.],\n",
       "       [0., 1., 0.],\n",
       "       [0., 1., 0.],\n",
       "       [0., 1., 0.],\n",
       "       [0., 1., 0.],\n",
       "       [0., 0., 1.],\n",
       "       [1., 0., 0.],\n",
       "       [1., 0., 0.],\n",
       "       [0., 0., 1.],\n",
       "       [0., 1., 0.],\n",
       "       [1., 0., 0.],\n",
       "       [1., 0., 0.],\n",
       "       [0., 1., 0.]], dtype=float32)"
      ]
     },
     "execution_count": 16,
     "metadata": {},
     "output_type": "execute_result"
    }
   ],
   "source": [
    "ohe_test_y"
   ]
  },
  {
   "cell_type": "code",
   "execution_count": 17,
   "metadata": {},
   "outputs": [],
   "source": [
    "model = Sequential()"
   ]
  },
  {
   "cell_type": "code",
   "execution_count": 18,
   "metadata": {
    "scrolled": true
   },
   "outputs": [
    {
     "name": "stdout",
     "output_type": "stream",
     "text": [
      "WARNING:tensorflow:From C:\\ProgramData\\Anaconda3\\lib\\site-packages\\tensorflow\\python\\framework\\op_def_library.py:263: colocate_with (from tensorflow.python.framework.ops) is deprecated and will be removed in a future version.\n",
      "Instructions for updating:\n",
      "Colocations handled automatically by placer.\n"
     ]
    }
   ],
   "source": [
    "model.add(Dense(16, input_shape=(4,), name='Input_layer', activation='relu'))"
   ]
  },
  {
   "cell_type": "code",
   "execution_count": 19,
   "metadata": {},
   "outputs": [],
   "source": [
    "model.add(Dense(3, name='Output_Layer', activation='softmax'))"
   ]
  },
  {
   "cell_type": "code",
   "execution_count": 20,
   "metadata": {},
   "outputs": [
    {
     "name": "stdout",
     "output_type": "stream",
     "text": [
      "_________________________________________________________________\n",
      "Layer (type)                 Output Shape              Param #   \n",
      "=================================================================\n",
      "Input_layer (Dense)          (None, 16)                80        \n",
      "_________________________________________________________________\n",
      "Output_Layer (Dense)         (None, 3)                 51        \n",
      "=================================================================\n",
      "Total params: 131\n",
      "Trainable params: 131\n",
      "Non-trainable params: 0\n",
      "_________________________________________________________________\n"
     ]
    }
   ],
   "source": [
    "model.summary()"
   ]
  },
  {
   "cell_type": "code",
   "execution_count": 21,
   "metadata": {},
   "outputs": [],
   "source": [
    "model.compile(optimizer='sgd', loss='categorical_crossentropy', metrics=['accuracy'])"
   ]
  },
  {
   "cell_type": "code",
   "execution_count": 26,
   "metadata": {},
   "outputs": [
    {
     "name": "stdout",
     "output_type": "stream",
     "text": [
      "Epoch 1/100\n",
      "75/75 [==============================] - 0s 493us/step - loss: 0.3423 - acc: 0.8400\n",
      "Epoch 2/100\n",
      "75/75 [==============================] - 0s 413us/step - loss: 0.3656 - acc: 0.8267\n",
      "Epoch 3/100\n",
      "75/75 [==============================] - 0s 360us/step - loss: 0.3276 - acc: 0.8400\n",
      "Epoch 4/100\n",
      "75/75 [==============================] - 0s 333us/step - loss: 0.3633 - acc: 0.7867\n",
      "Epoch 5/100\n",
      "75/75 [==============================] - 0s 333us/step - loss: 0.3230 - acc: 0.8400\n",
      "Epoch 6/100\n",
      "75/75 [==============================] - 0s 360us/step - loss: 0.2752 - acc: 0.9067\n",
      "Epoch 7/100\n",
      "75/75 [==============================] - 0s 333us/step - loss: 0.3103 - acc: 0.8400\n",
      "Epoch 8/100\n",
      "75/75 [==============================] - 0s 360us/step - loss: 0.2827 - acc: 0.9067\n",
      "Epoch 9/100\n",
      "75/75 [==============================] - 0s 347us/step - loss: 0.2371 - acc: 0.9333\n",
      "Epoch 10/100\n",
      "75/75 [==============================] - 0s 347us/step - loss: 0.2572 - acc: 0.9333\n",
      "Epoch 11/100\n",
      "75/75 [==============================] - 0s 347us/step - loss: 0.2184 - acc: 0.9467\n",
      "Epoch 12/100\n",
      "75/75 [==============================] - 0s 347us/step - loss: 0.2227 - acc: 0.9200\n",
      "Epoch 13/100\n",
      "75/75 [==============================] - 0s 333us/step - loss: 0.2149 - acc: 0.9200\n",
      "Epoch 14/100\n",
      "75/75 [==============================] - 0s 360us/step - loss: 0.2136 - acc: 0.9200\n",
      "Epoch 15/100\n",
      "75/75 [==============================] - 0s 373us/step - loss: 0.2204 - acc: 0.9600\n",
      "Epoch 16/100\n",
      "75/75 [==============================] - 0s 333us/step - loss: 0.2184 - acc: 0.9467\n",
      "Epoch 17/100\n",
      "75/75 [==============================] - 0s 360us/step - loss: 0.1797 - acc: 0.9600\n",
      "Epoch 18/100\n",
      "75/75 [==============================] - 0s 360us/step - loss: 0.2012 - acc: 0.9200\n",
      "Epoch 19/100\n",
      "75/75 [==============================] - 0s 347us/step - loss: 0.1852 - acc: 0.9600\n",
      "Epoch 20/100\n",
      "75/75 [==============================] - 0s 373us/step - loss: 0.1849 - acc: 0.9467\n",
      "Epoch 21/100\n",
      "75/75 [==============================] - 0s 360us/step - loss: 0.1859 - acc: 0.9600\n",
      "Epoch 22/100\n",
      "75/75 [==============================] - 0s 333us/step - loss: 0.1736 - acc: 0.9333\n",
      "Epoch 23/100\n",
      "75/75 [==============================] - 0s 387us/step - loss: 0.1939 - acc: 0.9333\n",
      "Epoch 24/100\n",
      "75/75 [==============================] - 0s 347us/step - loss: 0.1769 - acc: 0.9467\n",
      "Epoch 25/100\n",
      "75/75 [==============================] - 0s 347us/step - loss: 0.1825 - acc: 0.9200\n",
      "Epoch 26/100\n",
      "75/75 [==============================] - 0s 400us/step - loss: 0.1616 - acc: 0.9467\n",
      "Epoch 27/100\n",
      "75/75 [==============================] - 0s 373us/step - loss: 0.1524 - acc: 0.9600\n",
      "Epoch 28/100\n",
      "75/75 [==============================] - 0s 387us/step - loss: 0.1565 - acc: 0.9600\n",
      "Epoch 29/100\n",
      "75/75 [==============================] - 0s 360us/step - loss: 0.1105 - acc: 0.9867\n",
      "Epoch 30/100\n",
      "75/75 [==============================] - 0s 387us/step - loss: 0.1411 - acc: 0.9733\n",
      "Epoch 31/100\n",
      "75/75 [==============================] - 0s 360us/step - loss: 0.1527 - acc: 0.9333\n",
      "Epoch 32/100\n",
      "75/75 [==============================] - 0s 347us/step - loss: 0.1825 - acc: 0.9200\n",
      "Epoch 33/100\n",
      "75/75 [==============================] - 0s 333us/step - loss: 0.1575 - acc: 0.9333\n",
      "Epoch 34/100\n",
      "75/75 [==============================] - 0s 347us/step - loss: 0.1493 - acc: 0.9467\n",
      "Epoch 35/100\n",
      "75/75 [==============================] - 0s 333us/step - loss: 0.1267 - acc: 0.9600\n",
      "Epoch 36/100\n",
      "75/75 [==============================] - 0s 373us/step - loss: 0.1416 - acc: 0.9467\n",
      "Epoch 37/100\n",
      "75/75 [==============================] - 0s 373us/step - loss: 0.1224 - acc: 0.9733\n",
      "Epoch 38/100\n",
      "75/75 [==============================] - 0s 347us/step - loss: 0.1404 - acc: 0.9467\n",
      "Epoch 39/100\n",
      "75/75 [==============================] - 0s 347us/step - loss: 0.1626 - acc: 0.9200\n",
      "Epoch 40/100\n",
      "75/75 [==============================] - 0s 373us/step - loss: 0.1412 - acc: 0.9200\n",
      "Epoch 41/100\n",
      "75/75 [==============================] - 0s 333us/step - loss: 0.0988 - acc: 0.9600\n",
      "Epoch 42/100\n",
      "75/75 [==============================] - 0s 387us/step - loss: 0.1308 - acc: 0.9467\n",
      "Epoch 43/100\n",
      "75/75 [==============================] - 0s 347us/step - loss: 0.1328 - acc: 0.9200\n",
      "Epoch 44/100\n",
      "75/75 [==============================] - 0s 387us/step - loss: 0.1369 - acc: 0.9333\n",
      "Epoch 45/100\n",
      "75/75 [==============================] - 0s 387us/step - loss: 0.1767 - acc: 0.9067\n",
      "Epoch 46/100\n",
      "75/75 [==============================] - 0s 413us/step - loss: 0.1003 - acc: 0.9467\n",
      "Epoch 47/100\n",
      "75/75 [==============================] - 0s 400us/step - loss: 0.0996 - acc: 0.9733\n",
      "Epoch 48/100\n",
      "75/75 [==============================] - 0s 360us/step - loss: 0.1233 - acc: 0.9467\n",
      "Epoch 49/100\n",
      "75/75 [==============================] - 0s 360us/step - loss: 0.1268 - acc: 0.9333\n",
      "Epoch 50/100\n",
      "75/75 [==============================] - 0s 360us/step - loss: 0.1121 - acc: 0.9467\n",
      "Epoch 51/100\n",
      "75/75 [==============================] - 0s 320us/step - loss: 0.1419 - acc: 0.9333\n",
      "Epoch 52/100\n",
      "75/75 [==============================] - 0s 373us/step - loss: 0.1120 - acc: 0.9600\n",
      "Epoch 53/100\n",
      "75/75 [==============================] - 0s 360us/step - loss: 0.1116 - acc: 0.9467\n",
      "Epoch 54/100\n",
      "75/75 [==============================] - 0s 347us/step - loss: 0.1459 - acc: 0.9200\n",
      "Epoch 55/100\n",
      "75/75 [==============================] - 0s 440us/step - loss: 0.1056 - acc: 0.9733\n",
      "Epoch 56/100\n",
      "75/75 [==============================] - 0s 373us/step - loss: 0.1150 - acc: 0.9200\n",
      "Epoch 57/100\n",
      "75/75 [==============================] - 0s 387us/step - loss: 0.1430 - acc: 0.9467\n",
      "Epoch 58/100\n",
      "75/75 [==============================] - 0s 333us/step - loss: 0.1189 - acc: 0.9467\n",
      "Epoch 59/100\n",
      "75/75 [==============================] - 0s 347us/step - loss: 0.1089 - acc: 0.9333\n",
      "Epoch 60/100\n",
      "75/75 [==============================] - 0s 347us/step - loss: 0.1147 - acc: 0.9467\n",
      "Epoch 61/100\n",
      "75/75 [==============================] - 0s 333us/step - loss: 0.0796 - acc: 1.0000\n",
      "Epoch 62/100\n",
      "75/75 [==============================] - 0s 360us/step - loss: 0.1033 - acc: 0.9600\n",
      "Epoch 63/100\n",
      "75/75 [==============================] - 0s 373us/step - loss: 0.0985 - acc: 0.9467\n",
      "Epoch 64/100\n",
      "75/75 [==============================] - 0s 360us/step - loss: 0.1416 - acc: 0.9200\n",
      "Epoch 65/100\n",
      "75/75 [==============================] - 0s 360us/step - loss: 0.1303 - acc: 0.9467\n",
      "Epoch 66/100\n",
      "75/75 [==============================] - 0s 387us/step - loss: 0.1216 - acc: 0.9467\n",
      "Epoch 67/100\n",
      "75/75 [==============================] - 0s 387us/step - loss: 0.0979 - acc: 0.9600\n",
      "Epoch 68/100\n",
      "75/75 [==============================] - 0s 387us/step - loss: 0.1150 - acc: 0.9600\n",
      "Epoch 69/100\n",
      "75/75 [==============================] - 0s 387us/step - loss: 0.1226 - acc: 0.9600\n",
      "Epoch 70/100\n",
      "75/75 [==============================] - 0s 347us/step - loss: 0.1063 - acc: 0.9467\n",
      "Epoch 71/100\n",
      "75/75 [==============================] - 0s 373us/step - loss: 0.1330 - acc: 0.9467\n",
      "Epoch 72/100\n",
      "75/75 [==============================] - 0s 333us/step - loss: 0.2026 - acc: 0.8800\n",
      "Epoch 73/100\n",
      "75/75 [==============================] - 0s 347us/step - loss: 0.0837 - acc: 0.9600\n",
      "Epoch 74/100\n",
      "75/75 [==============================] - 0s 347us/step - loss: 0.1325 - acc: 0.9467\n",
      "Epoch 75/100\n",
      "75/75 [==============================] - 0s 333us/step - loss: 0.1136 - acc: 0.9733\n",
      "Epoch 76/100\n",
      "75/75 [==============================] - 0s 360us/step - loss: 0.1444 - acc: 0.9333\n",
      "Epoch 77/100\n",
      "75/75 [==============================] - 0s 320us/step - loss: 0.0844 - acc: 0.9600\n",
      "Epoch 78/100\n",
      "75/75 [==============================] - 0s 360us/step - loss: 0.0848 - acc: 0.9733\n",
      "Epoch 79/100\n",
      "75/75 [==============================] - 0s 413us/step - loss: 0.1014 - acc: 0.9733\n",
      "Epoch 80/100\n",
      "75/75 [==============================] - 0s 320us/step - loss: 0.1134 - acc: 0.9467\n",
      "Epoch 81/100\n",
      "75/75 [==============================] - 0s 387us/step - loss: 0.1229 - acc: 0.9333\n",
      "Epoch 82/100\n",
      "75/75 [==============================] - 0s 360us/step - loss: 0.0956 - acc: 0.9600\n",
      "Epoch 83/100\n",
      "75/75 [==============================] - 0s 333us/step - loss: 0.1020 - acc: 0.9733\n",
      "Epoch 84/100\n",
      "75/75 [==============================] - 0s 320us/step - loss: 0.1145 - acc: 0.9467\n",
      "Epoch 85/100\n"
     ]
    },
    {
     "name": "stdout",
     "output_type": "stream",
     "text": [
      "75/75 [==============================] - 0s 373us/step - loss: 0.0821 - acc: 0.9867\n",
      "Epoch 86/100\n",
      "75/75 [==============================] - 0s 373us/step - loss: 0.1110 - acc: 0.9467\n",
      "Epoch 87/100\n",
      "75/75 [==============================] - 0s 347us/step - loss: 0.1259 - acc: 0.9467\n",
      "Epoch 88/100\n",
      "75/75 [==============================] - 0s 333us/step - loss: 0.1082 - acc: 0.9600\n",
      "Epoch 89/100\n",
      "75/75 [==============================] - 0s 333us/step - loss: 0.0952 - acc: 0.9467\n",
      "Epoch 90/100\n",
      "75/75 [==============================] - 0s 333us/step - loss: 0.2102 - acc: 0.9467\n",
      "Epoch 91/100\n",
      "75/75 [==============================] - 0s 333us/step - loss: 0.0700 - acc: 0.9867\n",
      "Epoch 92/100\n",
      "75/75 [==============================] - 0s 333us/step - loss: 0.1278 - acc: 0.9467\n",
      "Epoch 93/100\n",
      "75/75 [==============================] - 0s 333us/step - loss: 0.0936 - acc: 0.9733\n",
      "Epoch 94/100\n",
      "75/75 [==============================] - 0s 347us/step - loss: 0.1324 - acc: 0.9200\n",
      "Epoch 95/100\n",
      "75/75 [==============================] - 0s 333us/step - loss: 0.0778 - acc: 0.9733\n",
      "Epoch 96/100\n",
      "75/75 [==============================] - 0s 333us/step - loss: 0.1126 - acc: 0.9600\n",
      "Epoch 97/100\n",
      "75/75 [==============================] - 0s 333us/step - loss: 0.1049 - acc: 0.9467\n",
      "Epoch 98/100\n",
      "75/75 [==============================] - 0s 333us/step - loss: 0.0696 - acc: 0.9867\n",
      "Epoch 99/100\n",
      "75/75 [==============================] - 0s 333us/step - loss: 0.0655 - acc: 0.9867\n",
      "Epoch 100/100\n",
      "75/75 [==============================] - 0s 360us/step - loss: 0.0968 - acc: 0.9600\n"
     ]
    },
    {
     "data": {
      "text/plain": [
       "<keras.callbacks.History at 0x15ac37f0>"
      ]
     },
     "execution_count": 26,
     "metadata": {},
     "output_type": "execute_result"
    }
   ],
   "source": [
    "model.fit(train_X, ohe_train_y, epochs=100, batch_size=2, verbose=1)"
   ]
  },
  {
   "cell_type": "code",
   "execution_count": 27,
   "metadata": {},
   "outputs": [],
   "source": [
    "loss, accuracy = model.evaluate(test_X, ohe_test_y, verbose=0)"
   ]
  },
  {
   "cell_type": "code",
   "execution_count": 28,
   "metadata": {},
   "outputs": [
    {
     "name": "stdout",
     "output_type": "stream",
     "text": [
      "Loss = 0.14\n"
     ]
    }
   ],
   "source": [
    "print('Loss = {:.2f}'.format(loss))"
   ]
  },
  {
   "cell_type": "code",
   "execution_count": 29,
   "metadata": {},
   "outputs": [
    {
     "name": "stdout",
     "output_type": "stream",
     "text": [
      "Accuracy = 0.92\n"
     ]
    }
   ],
   "source": [
    "print('Accuracy = {:.2f}'.format(accuracy))"
   ]
  },
  {
   "cell_type": "code",
   "execution_count": 30,
   "metadata": {},
   "outputs": [],
   "source": [
    "model_json = model.to_json()"
   ]
  },
  {
   "cell_type": "code",
   "execution_count": 31,
   "metadata": {},
   "outputs": [],
   "source": [
    "with open('iris_model.json', 'w') as json_file:\n",
    "    json_file.write(model_json)"
   ]
  },
  {
   "cell_type": "code",
   "execution_count": 32,
   "metadata": {},
   "outputs": [
    {
     "name": "stdout",
     "output_type": "stream",
     "text": [
      "saved model to disk\n"
     ]
    }
   ],
   "source": [
    "model.save_weights('iris_model.h5')\n",
    "print('saved model to disk')"
   ]
  }
 ],
 "metadata": {
  "kernelspec": {
   "display_name": "Python 3",
   "language": "python",
   "name": "python3"
  },
  "language_info": {
   "codemirror_mode": {
    "name": "ipython",
    "version": 3
   },
   "file_extension": ".py",
   "mimetype": "text/x-python",
   "name": "python",
   "nbconvert_exporter": "python",
   "pygments_lexer": "ipython3",
   "version": "3.7.1"
  }
 },
 "nbformat": 4,
 "nbformat_minor": 2
}
