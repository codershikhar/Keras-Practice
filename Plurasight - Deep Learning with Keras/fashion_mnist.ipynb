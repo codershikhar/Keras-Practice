{
 "cells": [
  {
   "cell_type": "code",
   "execution_count": 1,
   "metadata": {},
   "outputs": [],
   "source": [
    "#   Train a ConvNet on the MNIST fashion data.  This data consists of 10 classes of fashion images such\n",
    "#   as shorts, dresses, shoes, purses, etc.  These images replace the handwritten digits in the classic MNIST dataset.\n",
    "#   This change makes it harder to get a high score and more closely reflects real world usage of image \n",
    "#   classification.  And at the same time, is still small enough for the average PC to train in a short time.\n",
    "# See https://github.com/zalandoresearch/fashion-mnist for information and code on Fashion MNIST\n",
    "\n",
    "# This code is based on MNIST example found at Keras.io"
   ]
  },
  {
   "cell_type": "code",
   "execution_count": 2,
   "metadata": {},
   "outputs": [
    {
     "name": "stderr",
     "output_type": "stream",
     "text": [
      "Using TensorFlow backend.\n"
     ]
    }
   ],
   "source": [
    "from __future__ import print_function\n",
    "import keras\n",
    "from keras.datasets import fashion_mnist  # new with Keras 2.1.2.  Yah!!\n",
    "from keras.models import Sequential\n",
    "from keras.layers import Dense, Dropout, Flatten\n",
    "from keras.layers import Conv2D, MaxPooling2D\n",
    "from keras import backend as K"
   ]
  },
  {
   "cell_type": "code",
   "execution_count": 3,
   "metadata": {},
   "outputs": [],
   "source": [
    "#   Supress warning and informational messages\n",
    "import os\n",
    "os.environ['TF_CPP_MIN_LOG_LEVEL'] = '3' "
   ]
  },
  {
   "cell_type": "code",
   "execution_count": 4,
   "metadata": {},
   "outputs": [],
   "source": [
    "# Number of classes - do not change unless the data changes\n",
    "num_classes = 10"
   ]
  },
  {
   "cell_type": "code",
   "execution_count": 5,
   "metadata": {},
   "outputs": [],
   "source": [
    "# sizes of batch and # of epochs of data\n",
    "batch_size = 128\n",
    "epochs = 24"
   ]
  },
  {
   "cell_type": "code",
   "execution_count": 6,
   "metadata": {},
   "outputs": [],
   "source": [
    "# input image dimensions\n",
    "img_rows, img_cols = 28, 28"
   ]
  },
  {
   "cell_type": "code",
   "execution_count": 7,
   "metadata": {},
   "outputs": [],
   "source": [
    "# the data, shuffled and split between train and test sets\n",
    "(x_train, y_train), (x_test, y_test) = fashion_mnist.load_data() "
   ]
  },
  {
   "cell_type": "code",
   "execution_count": 8,
   "metadata": {},
   "outputs": [],
   "source": [
    "#   Deal with format issues between different backends.  Some put the # of channels in the image before the width and height of image.\n",
    "if K.image_data_format() == 'channels_first':\n",
    "    x_train = x_train.reshape(x_train.shape[0], 1, img_rows, img_cols)\n",
    "    x_test = X_test.reshape(x_test.shape[0], 1, img_rows, img_cols)\n",
    "    input_shape = (1, img_rows, img_cols)\n",
    "else:\n",
    "    x_train = x_train.reshape(x_train.shape[0], img_rows, img_cols, 1)\n",
    "    x_test = x_test.reshape(x_test.shape[0], img_rows, img_cols, 1)\n",
    "    input_shape = (img_rows, img_cols, 1)"
   ]
  },
  {
   "cell_type": "code",
   "execution_count": 9,
   "metadata": {},
   "outputs": [],
   "source": [
    "#   Type convert and scale the test and training data\n",
    "x_train = x_train.astype('float32')\n",
    "x_test = x_test.astype('float32')\n",
    "x_train /= 255\n",
    "x_test /= 255"
   ]
  },
  {
   "cell_type": "code",
   "execution_count": 10,
   "metadata": {},
   "outputs": [],
   "source": [
    "# convert class vectors to binary class matrices.  One-hot encoding\n",
    "#  3 => 0 0 0 1 0 0 0 0 0 0 and 1 => 0 1 0 0 0 0 0 0 0 0 \n",
    "y_train = keras.utils.to_categorical(y_train, num_classes)\n",
    "y_test = keras.utils.to_categorical(y_test, num_classes)"
   ]
  },
  {
   "cell_type": "code",
   "execution_count": 11,
   "metadata": {},
   "outputs": [],
   "source": [
    "# Define the model\n",
    "model = Sequential()\n",
    "# # V1\n",
    "# model.add(Conv2D(32, kernel_size=(3, 3), activation='relu', input_shape=input_shape))\n",
    "# model.add(MaxPooling2D(pool_size=(2, 2)))\n",
    "# model.add(Conv2D(32, (3, 3), activation='relu'))\n",
    "# model.add(MaxPooling2D(pool_size=(2, 2)))\n",
    "# model.add(Flatten())\n",
    "# model.add(Dense(128, activation='relu'))\n",
    "# model.add(Dropout(0.5))\n",
    "# model.add(Dense(num_classes, activation='softmax'))"
   ]
  },
  {
   "cell_type": "code",
   "execution_count": 12,
   "metadata": {},
   "outputs": [],
   "source": [
    "# V2\n",
    "# model.add(Conv2D(32, kernel_size=(3, 3), activation='relu', input_shape=input_shape))\n",
    "# model.add(MaxPooling2D(pool_size=(2, 2)))\n",
    "# model.add(Conv2D(64, (3, 3), activation='relu'))\n",
    "# model.add(MaxPooling2D(pool_size=(2, 2)))\n",
    "# model.add(Flatten())\n",
    "# model.add(Dense(128, activation='relu'))\n",
    "# model.add(Dropout(0.5))\n",
    "# model.add(Dense(num_classes, activation='softmax'))"
   ]
  },
  {
   "cell_type": "code",
   "execution_count": 13,
   "metadata": {},
   "outputs": [],
   "source": [
    "# #V3\n",
    "# model.add(Conv2D(32, kernel_size=(3, 3), activation='relu', input_shape=input_shape))\n",
    "# #model.add(MaxPooling2D(pool_size=(2, 2)))\n",
    "# model.add(Conv2D(64, (3, 3), activation='relu'))\n",
    "# model.add(MaxPooling2D(pool_size=(2, 2)))\n",
    "# model.add(Dropout(0.25))\n",
    "# model.add(Flatten())\n",
    "# model.add(Dense(128, activation='relu'))\n",
    "# model.add(Dropout(0.5))\n",
    "# model.add(Dense(num_classes, activation='softmax'))"
   ]
  },
  {
   "cell_type": "code",
   "execution_count": 14,
   "metadata": {},
   "outputs": [],
   "source": [
    "# #V3 \n",
    "# model.add(Conv2D(64, kernel_size=(3, 3), activation='relu', input_shape=input_shape))\n",
    "# model.add(MaxPooling2D(pool_size=(2, 2)))\n",
    "# model.add(Conv2D(64, (3, 3), activation='relu'))\n",
    "# model.add(MaxPooling2D(pool_size=(2, 2)))\n",
    "# model.add(Dropout(0.25))\n",
    "# model.add(Flatten())\n",
    "# model.add(Dense(128, activation='relu'))\n",
    "# model.add(Dropout(0.5))\n",
    "# model.add(Dense(num_classes, activation='softmax'))"
   ]
  },
  {
   "cell_type": "code",
   "execution_count": 15,
   "metadata": {},
   "outputs": [
    {
     "name": "stdout",
     "output_type": "stream",
     "text": [
      "WARNING:tensorflow:From C:\\ProgramData\\Anaconda3\\lib\\site-packages\\tensorflow\\python\\framework\\op_def_library.py:263: colocate_with (from tensorflow.python.framework.ops) is deprecated and will be removed in a future version.\n",
      "Instructions for updating:\n",
      "Colocations handled automatically by placer.\n",
      "WARNING:tensorflow:From C:\\ProgramData\\Anaconda3\\lib\\site-packages\\keras\\backend\\tensorflow_backend.py:3445: calling dropout (from tensorflow.python.ops.nn_ops) with keep_prob is deprecated and will be removed in a future version.\n",
      "Instructions for updating:\n",
      "Please use `rate` instead of `keep_prob`. Rate should be set to `rate = 1 - keep_prob`.\n"
     ]
    }
   ],
   "source": [
    "#V4 - remove 1st max pool\n",
    "model.add(Conv2D(32, kernel_size=(3, 3), activation='relu', input_shape=input_shape))\n",
    "model.add(Conv2D(64, (3, 3), activation='relu'))\n",
    "model.add(MaxPooling2D(pool_size=(2, 2)))\n",
    "model.add(Dropout(0.25))\n",
    "model.add(Flatten())\n",
    "model.add(Dense(128, activation='relu'))\n",
    "model.add(Dropout(0.5))\n",
    "model.add(Dense(num_classes, activation='softmax'))"
   ]
  },
  {
   "cell_type": "code",
   "execution_count": 16,
   "metadata": {},
   "outputs": [],
   "source": [
    "#   define compile to minimize categorical loss, use ada delta optimized, and optimize to maximizing accuracy\n",
    "model.compile(loss=keras.losses.categorical_crossentropy,\n",
    "              optimizer=keras.optimizers.Adadelta(),\n",
    "              metrics=['accuracy'])"
   ]
  },
  {
   "cell_type": "code",
   "execution_count": 17,
   "metadata": {
    "scrolled": false
   },
   "outputs": [
    {
     "name": "stdout",
     "output_type": "stream",
     "text": [
      "WARNING:tensorflow:From C:\\ProgramData\\Anaconda3\\lib\\site-packages\\tensorflow\\python\\ops\\math_ops.py:3066: to_int32 (from tensorflow.python.ops.math_ops) is deprecated and will be removed in a future version.\n",
      "Instructions for updating:\n",
      "Use tf.cast instead.\n",
      "Train on 60000 samples, validate on 10000 samples\n",
      "Epoch 1/24\n",
      "60000/60000 [==============================] - 123s 2ms/step - loss: 0.5724 - acc: 0.7988 - val_loss: 0.3674 - val_acc: 0.8685\n",
      "Epoch 2/24\n",
      "60000/60000 [==============================] - 120s 2ms/step - loss: 0.3596 - acc: 0.8712 - val_loss: 0.2997 - val_acc: 0.8906\n",
      "Epoch 3/24\n",
      "60000/60000 [==============================] - 120s 2ms/step - loss: 0.3093 - acc: 0.8892 - val_loss: 0.2780 - val_acc: 0.8993\n",
      "Epoch 4/24\n",
      "60000/60000 [==============================] - 120s 2ms/step - loss: 0.2774 - acc: 0.9010 - val_loss: 0.2572 - val_acc: 0.9048\n",
      "Epoch 5/24\n",
      "60000/60000 [==============================] - 120s 2ms/step - loss: 0.2557 - acc: 0.9080 - val_loss: 0.2537 - val_acc: 0.9067\n",
      "Epoch 6/24\n",
      "60000/60000 [==============================] - 121s 2ms/step - loss: 0.2352 - acc: 0.9149 - val_loss: 0.2488 - val_acc: 0.9102\n",
      "Epoch 7/24\n",
      "60000/60000 [==============================] - 125s 2ms/step - loss: 0.2214 - acc: 0.9200 - val_loss: 0.2433 - val_acc: 0.9112\n",
      "Epoch 8/24\n",
      "60000/60000 [==============================] - 124s 2ms/step - loss: 0.2062 - acc: 0.9258 - val_loss: 0.2377 - val_acc: 0.9146\n",
      "Epoch 9/24\n",
      "60000/60000 [==============================] - 122s 2ms/step - loss: 0.1956 - acc: 0.9286 - val_loss: 0.2247 - val_acc: 0.9193\n",
      "Epoch 10/24\n",
      "60000/60000 [==============================] - 133s 2ms/step - loss: 0.1853 - acc: 0.9338 - val_loss: 0.2196 - val_acc: 0.9223\n",
      "Epoch 11/24\n",
      "60000/60000 [==============================] - 133s 2ms/step - loss: 0.1765 - acc: 0.9365 - val_loss: 0.2123 - val_acc: 0.9276\n",
      "Epoch 12/24\n",
      "60000/60000 [==============================] - 128s 2ms/step - loss: 0.1684 - acc: 0.9391 - val_loss: 0.2164 - val_acc: 0.9227\n",
      "Epoch 13/24\n",
      "60000/60000 [==============================] - 120s 2ms/step - loss: 0.1627 - acc: 0.9421 - val_loss: 0.2240 - val_acc: 0.9256\n",
      "Epoch 14/24\n",
      "60000/60000 [==============================] - 119s 2ms/step - loss: 0.1557 - acc: 0.9436 - val_loss: 0.2155 - val_acc: 0.9261\n",
      "Epoch 15/24\n",
      "60000/60000 [==============================] - 121s 2ms/step - loss: 0.1494 - acc: 0.9466 - val_loss: 0.2145 - val_acc: 0.9241\n",
      "Epoch 16/24\n",
      "60000/60000 [==============================] - 120s 2ms/step - loss: 0.1411 - acc: 0.9496 - val_loss: 0.2204 - val_acc: 0.9277\n",
      "Epoch 17/24\n",
      "60000/60000 [==============================] - 120s 2ms/step - loss: 0.1371 - acc: 0.9509 - val_loss: 0.2077 - val_acc: 0.9290\n",
      "Epoch 18/24\n",
      "60000/60000 [==============================] - 120s 2ms/step - loss: 0.1353 - acc: 0.9516 - val_loss: 0.2252 - val_acc: 0.9278\n",
      "Epoch 19/24\n",
      "60000/60000 [==============================] - 120s 2ms/step - loss: 0.1279 - acc: 0.9546 - val_loss: 0.2513 - val_acc: 0.9245\n",
      "Epoch 20/24\n",
      "60000/60000 [==============================] - 120s 2ms/step - loss: 0.1250 - acc: 0.9554 - val_loss: 0.2334 - val_acc: 0.9313\n",
      "Epoch 21/24\n",
      "60000/60000 [==============================] - 120s 2ms/step - loss: 0.1213 - acc: 0.9561 - val_loss: 0.2370 - val_acc: 0.9314\n",
      "Epoch 22/24\n",
      "60000/60000 [==============================] - 121s 2ms/step - loss: 0.1179 - acc: 0.9582 - val_loss: 0.2395 - val_acc: 0.9276\n",
      "Epoch 23/24\n",
      "60000/60000 [==============================] - 120s 2ms/step - loss: 0.1148 - acc: 0.9592 - val_loss: 0.2527 - val_acc: 0.9280\n",
      "Epoch 24/24\n",
      "60000/60000 [==============================] - 120s 2ms/step - loss: 0.1097 - acc: 0.9605 - val_loss: 0.2257 - val_acc: 0.9308\n"
     ]
    }
   ],
   "source": [
    "#   Train the model and test/validate the mode with the test data after each cycle (epoch) through the training data\n",
    "#   Return history of loss and accuracy for each epoch\n",
    "hist = model.fit(x_train, y_train,\n",
    "          batch_size=batch_size,\n",
    "          epochs=epochs,\n",
    "          verbose=1,\n",
    "          validation_data=(x_test, y_test))"
   ]
  },
  {
   "cell_type": "code",
   "execution_count": 18,
   "metadata": {},
   "outputs": [
    {
     "name": "stdout",
     "output_type": "stream",
     "text": [
      "Test loss: 0.22570814918726684\n",
      "Test accuracy: 0.9308\n"
     ]
    }
   ],
   "source": [
    "#   Evaluate the model with the test data to get the scores on \"real\" data.\n",
    "score = model.evaluate(x_test, y_test, verbose=0)\n",
    "print('Test loss:', score[0])\n",
    "print('Test accuracy:', score[1])"
   ]
  },
  {
   "cell_type": "code",
   "execution_count": 20,
   "metadata": {},
   "outputs": [
    {
     "data": {
      "image/png": "[encoded data removed]",
      "text/plain": [
       "<Figure size 432x288 with 1 Axes>"
      ]
     },
     "metadata": {
      "needs_background": "light"
     },
     "output_type": "display_data"
    }
   ],
   "source": [
    "#   Plot data to see relationships in training and validation data\n",
    "import numpy as np\n",
    "import matplotlib.pyplot as plt\n",
    "epoch_list = list(range(1, len(hist.history['acc']) + 1))  # values for x axis [1, 2, ..., # of epochs]\n",
    "plt.plot(epoch_list, hist.history['acc'], epoch_list, hist.history['val_acc'])\n",
    "plt.legend(('Training Accuracy', 'Validation Accuracy'))\n",
    "plt.show()"
   ]
  }
 ],
 "metadata": {
  "kernelspec": {
   "display_name": "Python 3",
   "language": "python",
   "name": "python3"
  },
  "language_info": {
   "codemirror_mode": {
    "name": "ipython",
    "version": 3
   },
   "file_extension": ".py",
   "mimetype": "text/x-python",
   "name": "python",
   "nbconvert_exporter": "python",
   "pygments_lexer": "ipython3",
   "version": "3.7.1"
  }
 },
 "nbformat": 4,
 "nbformat_minor": 2
}
